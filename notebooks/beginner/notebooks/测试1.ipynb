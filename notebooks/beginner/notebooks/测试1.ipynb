{
 "cells": [
  {
   "cell_type": "markdown",
   "metadata": {},
   "source": [
    "# 测试 [pytest](https://docs.pytest.org/en/latest/) - part 1"
   ]
  },
  {
   "cell_type": "markdown",
   "metadata": {},
   "source": [
    "## 为什么要编写测试?\n",
    "* 谁想要执行手动测试?\n",
    "* 当你修复错误或添加新功能时，测试是一种验证你在途中没有破坏任何东西的方法\n",
    "* 如果你有明确的要求，则可以针对每个要求进行匹配的测试\n",
    "* 你不必担心重构\n",
    "* 测试记录你的实施-它们显示其他人的实施案例\n",
    "* 这个清单无穷无尽..."
   ]
  },
  {
   "cell_type": "markdown",
   "metadata": {},
   "source": [
    "## [测试驱动开发](https://en.wikipedia.org/wiki/Test-driven_development) 又名 TDD\n",
    "简而言之, TDD基本思想是在编写实际实现之前编写测试. 这种方法的最大好处可能是，开发人员专注于编写与程序应执行的功能相匹配的测试。如果测试是在实际实现之后编写的，那么仓促执行测试的风险就很高，而对于已编写的逻辑来说，这只是表明没问题。\n",
    "\n",
    "测试是现代敏捷软件开发中的一等公民，这就是为什么在Python学习道路上尽早开始思考TDD如此重要的原因\n",
    "\n",
    "TDD的工作流程可以归纳如下:\n",
    "\n",
    "1. 添加测试用例以进行修改 / 特征 / 你将要实施的错误修复\n",
    "\n",
    "2. 运行所有测试，并检查新测试是否失败\n",
    "\n",
    "3. 实施所需的更改\n",
    "\n",
    "4. 运行测试并验证所有通过\n",
    "\n",
    "5. 重构"
   ]
  },
  {
   "cell_type": "markdown",
   "metadata": {},
   "source": [
    "### 在notebooks里运行pytest\n",
    "这些是在Jupyter单元中运行pytest所需的步骤，你可以将此单元格的内容复制到包含测试的笔记本顶部。"
   ]
  },
  {
   "cell_type": "code",
   "execution_count": 5,
   "metadata": {},
   "outputs": [
    {
     "output_type": "stream",
     "name": "stdout",
     "text": [
      "Requirement already satisfied: pytest in c:\\users\\administrator\\appdata\\local\\programs\\python\\python39\\lib\\site-packages (6.2.1)\n",
      "Requirement already satisfied: py>=1.8.2 in c:\\users\\administrator\\appdata\\local\\programs\\python\\python39\\lib\\site-packages (from pytest) (1.10.0)\n",
      "Requirement already satisfied: atomicwrites>=1.0 in c:\\users\\administrator\\appdata\\local\\programs\\python\\python39\\lib\\site-packages (from pytest) (1.4.0)\n",
      "Requirement already satisfied: attrs>=19.2.0 in c:\\users\\administrator\\appdata\\local\\programs\\python\\python39\\lib\\site-packages (from pytest) (20.3.0)\n",
      "Requirement already satisfied: colorama in c:\\users\\administrator\\appdata\\roaming\\python\\python39\\site-packages (from pytest) (0.4.4)\n",
      "Requirement already satisfied: iniconfig in c:\\users\\administrator\\appdata\\local\\programs\\python\\python39\\lib\\site-packages (from pytest) (1.1.1)\n",
      "Requirement already satisfied: toml in c:\\users\\administrator\\appdata\\roaming\\python\\python39\\site-packages (from pytest) (0.10.2)\n",
      "Requirement already satisfied: packaging in c:\\users\\administrator\\appdata\\local\\programs\\python\\python39\\lib\\site-packages (from pytest) (20.8)\n",
      "Requirement already satisfied: pluggy<1.0.0a1,>=0.12 in c:\\users\\administrator\\appdata\\local\\programs\\python\\python39\\lib\\site-packages (from pytest) (0.13.1)\n",
      "Requirement already satisfied: pyparsing>=2.0.2 in c:\\users\\administrator\\appdata\\local\\programs\\python\\python39\\lib\\site-packages (from packaging->pytest) (2.4.7)\n",
      "Requirement already satisfied: ipytest in c:\\users\\administrator\\appdata\\local\\programs\\python\\python39\\lib\\site-packages (0.9.1)\n",
      "Requirement already satisfied: pytest>=5.4 in c:\\users\\administrator\\appdata\\local\\programs\\python\\python39\\lib\\site-packages (from ipytest) (6.2.1)\n",
      "Requirement already satisfied: ipython in c:\\users\\administrator\\appdata\\local\\programs\\python\\python39\\lib\\site-packages (from ipytest) (7.19.0)\n",
      "Requirement already satisfied: packaging in c:\\users\\administrator\\appdata\\local\\programs\\python\\python39\\lib\\site-packages (from ipytest) (20.8)\n",
      "Requirement already satisfied: toml in c:\\users\\administrator\\appdata\\roaming\\python\\python39\\site-packages (from pytest>=5.4->ipytest) (0.10.2)\n",
      "Requirement already satisfied: py>=1.8.2 in c:\\users\\administrator\\appdata\\local\\programs\\python\\python39\\lib\\site-packages (from pytest>=5.4->ipytest) (1.10.0)\n",
      "Requirement already satisfied: iniconfig in c:\\users\\administrator\\appdata\\local\\programs\\python\\python39\\lib\\site-packages (from pytest>=5.4->ipytest) (1.1.1)\n",
      "Requirement already satisfied: attrs>=19.2.0 in c:\\users\\administrator\\appdata\\local\\programs\\python\\python39\\lib\\site-packages (from pytest>=5.4->ipytest) (20.3.0)\n",
      "Requirement already satisfied: colorama in c:\\users\\administrator\\appdata\\roaming\\python\\python39\\site-packages (from pytest>=5.4->ipytest) (0.4.4)\n",
      "Requirement already satisfied: pluggy<1.0.0a1,>=0.12 in c:\\users\\administrator\\appdata\\local\\programs\\python\\python39\\lib\\site-packages (from pytest>=5.4->ipytest) (0.13.1)\n",
      "Requirement already satisfied: atomicwrites>=1.0 in c:\\users\\administrator\\appdata\\local\\programs\\python\\python39\\lib\\site-packages (from pytest>=5.4->ipytest) (1.4.0)\n",
      "Requirement already satisfied: traitlets>=4.2 in c:\\users\\administrator\\appdata\\local\\programs\\python\\python39\\lib\\site-packages (from ipython->ipytest) (5.0.5)\n",
      "Requirement already satisfied: pygments in c:\\users\\administrator\\appdata\\local\\programs\\python\\python39\\lib\\site-packages (from ipython->ipytest) (2.7.3)\n",
      "Requirement already satisfied: prompt-toolkit!=3.0.0,!=3.0.1,<3.1.0,>=2.0.0 in c:\\users\\administrator\\appdata\\local\\programs\\python\\python39\\lib\\site-packages (from ipython->ipytest) (3.0.8)\n",
      "Requirement already satisfied: setuptools>=18.5 in c:\\users\\administrator\\appdata\\local\\programs\\python\\python39\\lib\\site-packages (from ipython->ipytest) (49.2.1)\n",
      "Requirement already satisfied: decorator in c:\\users\\administrator\\appdata\\local\\programs\\python\\python39\\lib\\site-packages (from ipython->ipytest) (4.4.2)\n",
      "Requirement already satisfied: backcall in c:\\users\\administrator\\appdata\\local\\programs\\python\\python39\\lib\\site-packages (from ipython->ipytest) (0.2.0)\n",
      "Requirement already satisfied: jedi>=0.10 in c:\\users\\administrator\\appdata\\local\\programs\\python\\python39\\lib\\site-packages (from ipython->ipytest) (0.18.0)\n",
      "Requirement already satisfied: pickleshare in c:\\users\\administrator\\appdata\\local\\programs\\python\\python39\\lib\\site-packages (from ipython->ipytest) (0.7.5)\n",
      "Requirement already satisfied: parso<0.9.0,>=0.8.0 in c:\\users\\administrator\\appdata\\local\\programs\\python\\python39\\lib\\site-packages (from jedi>=0.10->ipython->ipytest) (0.8.1)\n",
      "Requirement already satisfied: wcwidth in c:\\users\\administrator\\appdata\\local\\programs\\python\\python39\\lib\\site-packages (from prompt-toolkit!=3.0.0,!=3.0.1,<3.1.0,>=2.0.0->ipython->ipytest) (0.2.5)\n",
      "Requirement already satisfied: ipython-genutils in c:\\users\\administrator\\appdata\\local\\programs\\python\\python39\\lib\\site-packages (from traitlets>=4.2->ipython->ipytest) (0.2.0)\n",
      "Requirement already satisfied: pyparsing>=2.0.2 in c:\\users\\administrator\\appdata\\local\\programs\\python\\python39\\lib\\site-packages (from packaging->ipytest) (2.4.7)\n"
     ]
    }
   ],
   "source": [
    "# 确保安装了pytest 和 ipytest\n",
    "# 在Jupyter笔记本中运行Pytest需要ipytest\n",
    "import sys\n",
    "!{sys.executable} -m pip install pytest\n",
    "!{sys.executable} -m pip install ipytest\n",
    "\n",
    "import ipytest\n",
    "import pytest\n",
    "\n",
    "# 必须为 ipytest 明确设置文件名 \n",
    "__file__ = '测试1.ipynb'"
   ]
  },
  {
   "cell_type": "markdown",
   "metadata": {},
   "source": [
    "## `pytest` 测试用例\n",
    "考虑一下我们有一个名为sum_of_three_numbers的函数，我们要为其编写测试。"
   ]
  },
  {
   "cell_type": "code",
   "execution_count": 6,
   "metadata": {},
   "outputs": [],
   "source": [
    "# 这将在你的 implementation.py\n",
    "def sum_of_three_numbers(num1, num2, num3):\n",
    "    return num1 + num2 + num3"
   ]
  },
  {
   "cell_type": "markdown",
   "metadata": {},
   "source": [
    "Pytest测试用例实际上与练习中已经看到的非常相似。通过将每个练习分为三个单元，大多数练习的结构都类似于pytest测试用例：\n",
    "\n",
    "1.设置测试中使用的变量\n",
    "\n",
    "2.您的实现\n",
    "\n",
    "3.使用断言验证你的实现满足了你的期望\n",
    "\n",
    "请参见下面的示例测试用例了解练习和测试用例的通用结构之间的相似之处。"
   ]
  },
  {
   "cell_type": "code",
   "execution_count": 7,
   "metadata": {},
   "outputs": [
    {
     "output_type": "stream",
     "name": "stderr",
     "text": [
      "UsageError: Cell magic `%%run_pytest[clean]` not found.\n"
     ]
    }
   ],
   "source": [
    "%%run_pytest[clean]\n",
    "# 在包含测试的单元格的顶部提到这一点\n",
    "# 仅在Jupyter笔记本中运行pytest才需要\n",
    "\n",
    "\n",
    "# 这将在你的 test_implementation.py\n",
    "def test_sum_of_three_numbers():\n",
    "    # 1. 设置测试中使用的变量\n",
    "    num1 = 2\n",
    "    num2 = 3\n",
    "    num3 = 5\n",
    "    \n",
    "    # 2. 调用你要测试的功能\n",
    "    result = sum_of_three_numbers(num1, num2, num3)\n",
    "    \n",
    "    # 3. 验证预期结果\n",
    "    assert result == 10"
   ]
  },
  {
   "cell_type": "markdown",
   "metadata": {},
   "source": [
    "Now go ahead and change the line `assert result == 10` such that the assertion fails to see the output of a failed test."
   ]
  }
 ],
 "metadata": {
  "kernelspec": {
   "display_name": "Python 3",
   "language": "python",
   "name": "python3"
  },
  "language_info": {
   "codemirror_mode": {
    "name": "ipython",
    "version": 3
   },
   "file_extension": ".py",
   "mimetype": "text/x-python",
   "name": "python",
   "nbconvert_exporter": "python",
   "pygments_lexer": "ipython3",
   "version": "3.9.1-final"
  }
 },
 "nbformat": 4,
 "nbformat_minor": 2
}