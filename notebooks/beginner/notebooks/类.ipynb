{
 "cells": [
  {
   "cell_type": "markdown",
   "metadata": {},
   "source": [
    "# [类](https://docs.python.org/3/tutorial/classes.html#a-first-look-at-classes)"
   ]
  },
  {
   "cell_type": "code",
   "execution_count": 1,
   "metadata": {},
   "outputs": [],
   "source": [
    "class MyFirstClass:\n",
    "    def __init__(self, name):\n",
    "        self.name = name\n",
    "\n",
    "    def greet(self):\n",
    "        print('Hello {}!'.format(self.name))"
   ]
  },
  {
   "cell_type": "code",
   "execution_count": 2,
   "metadata": {},
   "outputs": [
    {
     "name": "stdout",
     "output_type": "stream",
     "text": [
      "my_instance: <__main__.MyFirstClass object at 0x0000024431565CA0>\n",
      "type: <class '__main__.MyFirstClass'>\n",
      "my_instance.name: John Doe\n"
     ]
    }
   ],
   "source": [
    "my_instance = MyFirstClass('John Doe')\n",
    "print('my_instance: {}'.format(my_instance))\n",
    "print('type: {}'.format(type(my_instance)))\n",
    "print('my_instance.name: {}'.format(my_instance.name))"
   ]
  },
  {
   "cell_type": "markdown",
   "metadata": {},
   "source": [
    "## 方法\n",
    "类中的函数被称为方法，他们的用法和功能类似。"
   ]
  },
  {
   "cell_type": "code",
   "execution_count": 4,
   "metadata": {},
   "outputs": [
    {
     "name": "stdout",
     "output_type": "stream",
     "text": [
      "Hello Alice!\n"
     ]
    }
   ],
   "source": [
    "alice = MyFirstClass(name='Alice')\n",
    "alice.greet()"
   ]
  },
  {
   "cell_type": "code",
   "execution_count": 5,
   "metadata": {},
   "outputs": [
    {
     "name": "stdout",
     "output_type": "stream",
     "text": [
      "creating instance of Example\n",
      "Now we are inside __init__\n",
      "instance created\n"
     ]
    }
   ],
   "source": [
    "class Example:\n",
    "    def __init__(self):\n",
    "        print('Now we are inside __init__')\n",
    "        \n",
    "print('creating instance of Example')\n",
    "example = Example()\n",
    "print('instance created')"
   ]
  },
  {
   "cell_type": "code",
   "execution_count": 6,
   "metadata": {},
   "outputs": [
    {
     "name": "stdout",
     "output_type": "stream",
     "text": [
      "abc 123\n"
     ]
    }
   ],
   "source": [
    "class Example:\n",
    "    def __init__(self, var1, var2):\n",
    "        self.first_var = var1\n",
    "        self.second_var = var2\n",
    "        \n",
    "    def print_variables(self):\n",
    "        print('{} {}'.format(self.first_var, self.second_var))\n",
    "        \n",
    "e = Example('abc', 123)\n",
    "e.print_variables()\n",
    "    "
   ]
  },
  {
   "cell_type": "code",
   "execution_count": 8,
   "metadata": {},
   "outputs": [
    {
     "name": "stdout",
     "output_type": "stream",
     "text": [
      "15\n"
     ]
    },
    {
     "ename": "AttributeError",
     "evalue": "can't set attribute",
     "output_type": "error",
     "traceback": [
      "\u001b[1;31m---------------------------------------------------------------------------\u001b[0m",
      "\u001b[1;31mAttributeError\u001b[0m                            Traceback (most recent call last)",
      "\u001b[1;32m<ipython-input-8-b065bc659a30>\u001b[0m in \u001b[0;36m<module>\u001b[1;34m\u001b[0m\n\u001b[0;32m     11\u001b[0m \u001b[0mprint\u001b[0m\u001b[1;33m(\u001b[0m\u001b[0mexample_person\u001b[0m\u001b[1;33m.\u001b[0m\u001b[0mage\u001b[0m\u001b[1;33m)\u001b[0m\u001b[1;33m\u001b[0m\u001b[1;33m\u001b[0m\u001b[0m\n\u001b[0;32m     12\u001b[0m \u001b[1;31m# But not this:\u001b[0m\u001b[1;33m\u001b[0m\u001b[1;33m\u001b[0m\u001b[1;33m\u001b[0m\u001b[0m\n\u001b[1;32m---> 13\u001b[1;33m \u001b[0mexample_person\u001b[0m\u001b[1;33m.\u001b[0m\u001b[0mage\u001b[0m \u001b[1;33m=\u001b[0m \u001b[1;36m16\u001b[0m\u001b[1;33m\u001b[0m\u001b[1;33m\u001b[0m\u001b[0m\n\u001b[0m\u001b[0;32m     14\u001b[0m \u001b[0mprint\u001b[0m\u001b[1;33m(\u001b[0m\u001b[0mexample_person\u001b[0m\u001b[1;33m.\u001b[0m\u001b[0mage\u001b[0m\u001b[1;33m)\u001b[0m\u001b[1;33m\u001b[0m\u001b[1;33m\u001b[0m\u001b[0m\n",
      "\u001b[1;31mAttributeError\u001b[0m: can't set attribute"
     ]
    }
   ],
   "source": [
    "class Person:\n",
    "    def __init__(self, age):\n",
    "        self._age = age\n",
    "        \n",
    "    @property\n",
    "    def age(self):\n",
    "        return self._age\n",
    "        \n",
    "example_person = Person(age=15)\n",
    "# 你现在可以执行此操作:\n",
    "print(example_person.age)\n",
    "# 但不能执行这个:\n",
    "# example_person.age = 16"
   ]
  },
  {
   "cell_type": "markdown",
   "metadata": {},
   "source": [
    "这样你可以对类的实例变量进行访问"
   ]
  },
  {
   "cell_type": "code",
   "execution_count": 10,
   "metadata": {},
   "outputs": [
    {
     "name": "stdout",
     "output_type": "stream",
     "text": [
      "Happy bday for 16 years old!\n"
     ]
    }
   ],
   "source": [
    "class Person:\n",
    "    def __init__(self, age):\n",
    "        self._age = age\n",
    "        \n",
    "    @property\n",
    "    def age(self):\n",
    "        return self._age\n",
    "    \n",
    "    def celebrate_birthday(self):\n",
    "        self._age += 1\n",
    "        print('Happy bday for {} years old!'.format(self._age))\n",
    "        \n",
    "example_person = Person(age=15)\n",
    "example_person.celebrate_birthday()"
   ]
  },
  {
   "cell_type": "markdown",
   "metadata": {},
   "source": [
    "## 继承简介"
   ]
  },
  {
   "cell_type": "code",
   "execution_count": 11,
   "metadata": {},
   "outputs": [],
   "source": [
    "class Animal:\n",
    "    def greet(self):\n",
    "        print('Hello, I am an animal')\n",
    "\n",
    "    @property\n",
    "    def favorite_food(self):\n",
    "        return 'beef'\n",
    "\n",
    "\n",
    "class Dog(Animal):\n",
    "    def greet(self):\n",
    "        print('wof wof')\n",
    "\n",
    "\n",
    "class Cat(Animal):\n",
    "    @property\n",
    "    def favorite_food(self):\n",
    "        return 'fish'"
   ]
  },
  {
   "cell_type": "code",
   "execution_count": 12,
   "metadata": {},
   "outputs": [
    {
     "name": "stdout",
     "output_type": "stream",
     "text": [
      "wof wof\n",
      "Dog's favorite food is beef\n",
      "Hello, I am an animal\n",
      "Cat's favorite food is fish\n"
     ]
    }
   ],
   "source": [
    "dog = Dog()\n",
    "dog.greet()\n",
    "print(\"Dog's favorite food is {}\".format(dog.favorite_food))\n",
    "\n",
    "cat = Cat()\n",
    "cat.greet()\n",
    "print(\"Cat's favorite food is {}\".format(cat.favorite_food))"
   ]
  },
  {
   "cell_type": "code",
   "execution_count": null,
   "metadata": {},
   "outputs": [],
   "source": []
  }
 ],
 "metadata": {
  "kernelspec": {
   "display_name": "Python 3",
   "language": "python",
   "name": "python3"
  },
  "language_info": {
   "codemirror_mode": {
    "name": "ipython",
    "version": 3
   },
   "file_extension": ".py",
   "mimetype": "text/x-python",
   "name": "python",
   "nbconvert_exporter": "python",
   "pygments_lexer": "ipython3",
   "version": "3.9.1"
  }
 },
 "nbformat": 4,
 "nbformat_minor": 2
}
