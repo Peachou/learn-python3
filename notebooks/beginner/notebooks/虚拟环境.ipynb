{
 "cells": [
  {
   "cell_type": "markdown",
   "metadata": {},
   "source": [
    "# 虚拟环境\n",
    "使用Python项目时，最佳实践是为每个项目都有一个单独的虚拟环境。\n",
    "\n",
    "每个虚拟环境都有自己的Python二进制文件，当你将某些Python软件包安装到虚拟环境中时，它将仅安装到该特定环境中。这意味着您可以在同一台计算机上的不同虚拟环境中拥有单个Python软件包的不同版本。如果你需要在项目中使用不同的Python版本，则虚拟环境也很有用。"
   ]
  },
  {
   "cell_type": "markdown",
   "metadata": {},
   "source": [
    "## [`venv`](https://docs.python.org/3/library/venv.html#module-venv)"
   ]
  },
  {
   "cell_type": "markdown",
   "metadata": {},
   "source": [
    "#### 创建新的虚拟环境\n",
    "你可以将所有虚拟环境创建到一个目录中（例如，主文件夹中的.virtualenvs目录）。这使它们更容易找到。"
   ]
  },
  {
   "cell_type": "markdown",
   "metadata": {},
   "source": [
    "`python3 -m venv /path/to/new/environment`\n",
    "\n",
    "or\n",
    "\n",
    "`path/to/your/python -m venv /path/to/new/environment`"
   ]
  },
  {
   "cell_type": "markdown",
   "metadata": {},
   "source": [
    "#### 激活虚拟环境"
   ]
  },
  {
   "cell_type": "markdown",
   "metadata": {},
   "source": [
    "Windows: `path_to_virtual_env\\Scripts\\activate.bat`<br/>\n",
    "Posix: `source path_to_virtual_env/bin/activate`"
   ]
  },
  {
   "cell_type": "markdown",
   "metadata": {},
   "source": [
    "#### 安装套件\n",
    "激活新创建的虚拟环境后，您可以使用`pip`安装新软件包。例如，如果您想安装`pytest`：\n",
    "\n",
    "`python -m pip install pytest`\n",
    "\n",
    "它将安装到path_to_virtual_env/lib/<python_version>/site-packages中。请注意，根据你使用的操作系统，站点包的路径可能会略有不同。\n",
    "你可以通过运行以下命令列出已安装的软件包及其版本:\n",
    "\n",
    "`python -m pip freeze`"
   ]
  }
 ],
 "metadata": {
  "kernelspec": {
   "display_name": "Python 3",
   "language": "python",
   "name": "python3"
  },
  "language_info": {
   "codemirror_mode": {
    "name": "ipython",
    "version": 3
   },
   "file_extension": ".py",
   "mimetype": "text/x-python",
   "name": "python",
   "nbconvert_exporter": "python",
   "pygments_lexer": "ipython3",
   "version": "3.5.4"
  }
 },
 "nbformat": 4,
 "nbformat_minor": 2
}